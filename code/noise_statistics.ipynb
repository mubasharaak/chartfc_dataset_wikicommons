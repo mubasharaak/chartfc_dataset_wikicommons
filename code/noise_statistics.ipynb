{
 "cells": [
  {
   "cell_type": "code",
   "execution_count": 12,
   "id": "2a770654",
   "metadata": {},
   "outputs": [],
   "source": [
    "import matplotlib.pyplot as plt\n",
    "from os import listdir"
   ]
  },
  {
   "cell_type": "code",
   "execution_count": 4,
   "id": "bca36131",
   "metadata": {},
   "outputs": [],
   "source": [
    "barchart={\n",
    "    'clear':0,\n",
    "    'filtered':0,\n",
    "    'controversial':0\n",
    "}\n",
    "linechart={\n",
    "    'clear':0,\n",
    "    'filtered':0,\n",
    "    'controversial':0\n",
    "}\n",
    "scatter={\n",
    "    'clear':0,\n",
    "    'filtered':0,\n",
    "    'controversial':0\n",
    "}\n",
    "piechart={\n",
    "    'clear':0,\n",
    "    'filtered':0,\n",
    "    'controversial ':0\n",
    "}\n",
    "basedir=r'D:\\PhD TIB\\secondment\\research\\data\\images-backup'"
   ]
  },
  {
   "cell_type": "code",
   "execution_count": 6,
   "id": "a9bff09c",
   "metadata": {},
   "outputs": [],
   "source": [
    "import os\n",
    "chart_type=['barchart','linechart','scatter','piechart']\n",
    "for i in chart_type:\n",
    "    path=os.path.join(basedir,i)\n",
    "    eval(i)['clear']=len(listdir(os.path.join(basedir,i)))-2\n",
    "    eval(i)['filtered'] = len(listdir(os.path.join(path,'filtered')))\n",
    "    eval(i)['controversial']=len(listdir(os.path.join(path,'controversial')))"
   ]
  },
  {
   "cell_type": "code",
   "execution_count": 11,
   "id": "ee1b37d5",
   "metadata": {},
   "outputs": [
    {
     "data": {
      "image/png": "[encoded data removed]",
      "text/plain": [
       "<Figure size 432x288 with 1 Axes>"
      ]
     },
     "metadata": {
      "needs_background": "light"
     },
     "output_type": "display_data"
    }
   ],
   "source": [
    "filtered=[barchart['filtered'],linechart['filtered'],scatter['filtered'],piechart['filtered']]\n",
    "controversial=[barchart['controversial'],linechart['controversial'],scatter['controversial'],piechart['filtered']]\n",
    "filtered=[(x / 25)*100 for x in filtered]\n",
    "controversial=[(x / 25)*100 for x in controversial]\n",
    "plt.bar(chart_type, filtered, color='r')\n",
    "plt.bar(chart_type, controversial, bottom=filtered, color='b')\n",
    "plt.ylim([0,40])\n",
    "plt.title('Noise percentage in different charts for 100 samples')\n",
    "plt.legend(['noisy','controversial'])\n",
    "plt.xlabel(\"Chart type\")\n",
    "plt.ylabel(\"percentage of noise(%)\")\n",
    "plt.show()"
   ]
  },
  {
   "cell_type": "code",
   "execution_count": null,
   "id": "5e9599d6",
   "metadata": {},
   "outputs": [],
   "source": []
  }
 ],
 "metadata": {
  "kernelspec": {
   "display_name": "Python 3",
   "language": "python",
   "name": "python3"
  },
  "language_info": {
   "codemirror_mode": {
    "name": "ipython",
    "version": 3
   },
   "file_extension": ".py",
   "mimetype": "text/x-python",
   "name": "python",
   "nbconvert_exporter": "python",
   "pygments_lexer": "ipython3",
   "version": "3.8.8"
  }
 },
 "nbformat": 4,
 "nbformat_minor": 5
}
