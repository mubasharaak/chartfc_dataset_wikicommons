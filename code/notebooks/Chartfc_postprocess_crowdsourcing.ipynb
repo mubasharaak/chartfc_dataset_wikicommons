{
 "cells": [
  {
   "cell_type": "markdown",
   "metadata": {},
   "source": [
    "#### Importing packages"
   ]
  },
  {
   "cell_type": "code",
   "execution_count": 1,
   "metadata": {},
   "outputs": [],
   "source": [
    "# Load packages \n",
    "\n",
    "import collections\n",
    "import json\n",
    "import matplotlib.pyplot as plt\n",
    "import numpy as np\n",
    "import os\n",
    "import pandas as pd\n",
    "\n",
    "import seaborn as sns\n",
    "import uuid\n",
    "\n",
    "from collections import Counter\n",
    "from datetime import datetime\n",
    "from dateutil import parser\n",
    "import pymongo\n"
   ]
  },
  {
   "cell_type": "markdown",
   "id": "2dba37ea",
   "metadata": {},
   "source": [
    "## Overview"
   ]
  },
  {
   "cell_type": "markdown",
   "id": "13b68649",
   "metadata": {},
   "source": [
    "1. <strong>Load annotations for a task </strong>\n",
    "\n",
    "\n",
    "2. <strong>Calculate stats related to this task, e.g. number of workers, time for annotation, etc. </strong>\n",
    "\n",
    "\n",
    "3. <strong>Apply majority voting and update database </strong> \n",
    "\n",
    "Set the following variables first:\n"
   ]
  },
  {
   "cell_type": "code",
   "execution_count": 2,
   "metadata": {},
   "outputs": [],
   "source": [
    "# Set the task to be postprocessed: \"table_relevance\", \"claim_adjustment\", \"verification\"\n",
    "task = \"chart_filtering\"\n",
    "\n",
    "# Load file with annotations into pandas.DataFrame OR if annotations saved in DB, create client and load data, example below \n",
    "df = pd.DataFrame()\n",
    "\n",
    "# List of banned workers, if any (.json file)\n",
    "path_banned_workers = './banned_list.json'\n",
    "\n",
    "PROJECT_PATH = r\"C:\\Users\\tahmasebis\\PycharmProjects\\ChartFC\\Crowd_sourcing\"\n",
    "PATH_MONGODB_CREDENTIALS = os.path.join(PROJECT_PATH, 'config/mongodb_credentials.json')"
   ]
  },
  {
   "cell_type": "markdown",
   "metadata": {},
   "source": [
    "--------"
   ]
  },
  {
   "cell_type": "code",
   "execution_count": 3,
   "metadata": {
    "scrolled": true
   },
   "outputs": [
    {
     "name": "stdout",
     "output_type": "stream",
     "text": [
      "Number of samples in 'hit_result_collection' is 11\n"
     ]
    }
   ],
   "source": [
    "# Load annotation data from MongoDB \n",
    "\n",
    "with open(PATH_MONGODB_CREDENTIALS,'r') as f:\n",
    "    mongodb_credentials = json.load(f)\n",
    "\n",
    "db_client = pymongo.MongoClient(mongodb_credentials[\"connection_string\"])\n",
    "db = db_client['chartfc']\n",
    "\n",
    "hit_result_collection = db.hit_results\n",
    "cursor = hit_result_collection.find({\"type\": task})\n",
    "df = pd.DataFrame(list(cursor))\n",
    "\n",
    "print(f\"Number of samples in 'hit_result_collection' is {len(df)}\")\n"
   ]
  },
  {
   "cell_type": "markdown",
   "metadata": {},
   "source": [
    "### Create dataframe"
   ]
  },
  {
   "cell_type": "code",
   "execution_count": null,
   "metadata": {},
   "outputs": [],
   "source": [
    "# load list of banned workers to exclude them\n",
    "with open(path_banned_workers,'r') as f:\n",
    "    banlist = json.load(f)\n",
    "\n",
    "# load list of rejected assignments to exclude them (if any exist)\n",
    "rejected_assignments = pd.read_excel(\"filled_answer_df.xlsx\")\n",
    "rejected_assignments = list(rejected_assignments[rejected_assignments[\"reject\"]==1].assignment_id)\n",
    "\n",
    "print(f\"Number of banned workers is {len(banlist)}.\")\n",
    "print(f\"Number of rejected assignments is {len(rejected_assignments)}.\")\n"
   ]
  },
  {
   "cell_type": "code",
   "execution_count": 4,
   "metadata": {},
   "outputs": [
    {
     "name": "stdout",
     "output_type": "stream",
     "text": [
      "33\n"
     ]
    },
    {
     "data": {
      "text/plain": [
       "0"
      ]
     },
     "execution_count": 4,
     "metadata": {},
     "output_type": "execute_result"
    }
   ],
   "source": [
    "cols = list(df.columns)\n",
    "#cols.remove(\"language\")\n",
    "cols.remove(\"type\")\n",
    "cols.remove(\"timestamp\")\n",
    "cols.remove(\"answers\")\n",
    "cols.extend(['worker_id', 'outputs', 'times', 'events', 'feedback'])\n",
    "\n",
    "annotations_df = pd.DataFrame(columns = cols)\n",
    "counter_skip = 0\n",
    "index = 0\n",
    "for i, row in df.iterrows(): \n",
    "    if task != \"claim_generation\" and (type(row[\"answers\"])!=list or len(row[\"answers\"]) < 3): # we only consider df entries with completed assignments 3/3\n",
    "        counter_skip += 1\n",
    "        continue \n",
    "    \n",
    "    for worker_answer in row[\"answers\"]:\n",
    "        #if worker_answer[\"worker_id\"] in banlist or worker_answer[\"assignment_id\"] in rejected_assignments:\n",
    "        #    print(\"Skipped because worker is banned or assignment has been rejected.\")\n",
    "        #    counter_skip += 1\n",
    "        #    continue\n",
    "        \n",
    "        row[\"worker_id\"] = worker_answer[\"worker_id\"]\n",
    "        annotations_df.at[index, \"_id\"] = row[\"_id\"]\n",
    "        annotations_df.at[index, \"batch_id\"] = row[\"batch_id\"]\n",
    "        annotations_df.at[index, \"references\"] = row[\"references\"]\n",
    "        annotations_df.at[index, \"taskSet_id\"] = row[\"taskSet_id\"]\n",
    "        annotations_df.at[index, \"hit\"] = row[\"hit\"]\n",
    "        \n",
    "        annotations_df.at[index, \"worker_id\"] = worker_answer[\"worker_id\"]\n",
    "        annotations_df.at[index, \"outputs\"] = worker_answer[\"values\"][\"outputs\"]\n",
    "        annotations_df.at[index, \"times\"] = worker_answer[\"values\"][\"times\"]\n",
    "        annotations_df.at[index, \"events\"] = worker_answer[\"values\"][\"events\"]\n",
    "        annotations_df.at[index, \"feedback\"] = worker_answer[\"values\"][\"feedback\"]\n",
    "        index += 1\n",
    "\n",
    "print(len(annotations_df))\n",
    "counter_skip\n"
   ]
  },
  {
   "cell_type": "code",
   "execution_count": 6,
   "metadata": {},
   "outputs": [
    {
     "name": "stdout",
     "output_type": "stream",
     "text": [
      "165\n"
     ]
    },
    {
     "data": {
      "text/plain": [
       "'    \\nelif task == \"claim_generation\": \\n    \\n    output_df = pd.DataFrame(columns=[\"HIT_id\", \"batch_id\", \"taskSet_id\", \"worker_id\", \"claim_id\", \"claim\", \"table\",\\n                                      \"label\", \"adjusted_claim\", \"events\"])\\n    index = 0\\n    for i, row in annotations_df.iterrows():\\n        for j in range(len(row[\"references\"])):\\n\\n            output_df.at[index, \"HIT_id\"] = row[\"_id\"]\\n            output_df.at[index, \"batch_id\"] = row[\"batch_id\"]\\n            output_df.at[index, \"taskSet_id\"] = row[\"taskSet_id\"]\\n            output_df.at[index, \"worker_id\"] = row[\"worker_id\"]\\n\\n            output_df.at[index, \"claim_id\"] = row[\"references\"][j][\"claim_db_id\"]\\n            output_df.at[index, \"claim\"] = row[\"references\"][j][\"claim\"]\\n            output_df.at[index, \"table\"] = row[\"references\"][j][\"table\"]\\n\\n            output_df.at[index, \"adjusted_claim\"] = row[\"outputs\"][j][\"adjusted_claim\"]\\n            output_df.at[index, \"label\"] = row[\"outputs\"][j][\"label\"]\\n            output_df.at[index, \"events\"] = row[\"events\"][j]\\n            \\n            index += 1  \\n\\n    print(len(output_df))'"
      ]
     },
     "execution_count": 6,
     "metadata": {},
     "output_type": "execute_result"
    }
   ],
   "source": [
    "# | worker | claim id | label |\n",
    "\n",
    "if task in [\"chart_filtering\"]:\n",
    "    output_df = pd.DataFrame(columns=[\"HIT_id\", \"batch_id\", \"taskSet_id\", \"worker_id\", \"chart_id\", \"chart_img\", \"caption\",\n",
    "                                      \"label\", \"header\", \"events\"])\n",
    "\n",
    "    index = 0\n",
    "    for i, row in annotations_df.iterrows():\n",
    "        for j in range(len(row[\"references\"])):\n",
    "            if row[\"references\"][j][\"g_id\"]!=-1:\n",
    "                continue\n",
    "\n",
    "            output_df.at[index, \"HIT_id\"] = row[\"_id\"]\n",
    "            output_df.at[index, \"batch_id\"] = row[\"batch_id\"]\n",
    "            output_df.at[index, \"taskSet_id\"] = row[\"taskSet_id\"]\n",
    "            output_df.at[index, \"worker_id\"] = row[\"worker_id\"]\n",
    "\n",
    "            output_df.at[index, \"chart_id\"] = row[\"references\"][j][\"db_id\"]\n",
    "            output_df.at[index, \"chart_img\"] = row[\"references\"][j][\"chart_img\"]\n",
    "            output_df.at[index, \"caption\"] = row[\"references\"][j][\"caption\"]\n",
    "\n",
    "            output_df.at[index, \"label\"] = row[\"outputs\"][j][\"label\"]\n",
    "            output_df.at[index, \"header\"] = row[\"outputs\"][j][\"header\"]\n",
    "            output_df.at[index, \"events\"] = row[\"events\"][j]\n",
    "            index += 1\n",
    "\n",
    "    print(len(output_df))\n",
    "    \n",
    "\"\"\"    \n",
    "elif task == \"claim_generation\": \n",
    "    \n",
    "    output_df = pd.DataFrame(columns=[\"HIT_id\", \"batch_id\", \"taskSet_id\", \"worker_id\", \"claim_id\", \"claim\", \"table\",\n",
    "                                      \"label\", \"adjusted_claim\", \"events\"])\n",
    "    index = 0\n",
    "    for i, row in annotations_df.iterrows():\n",
    "        for j in range(len(row[\"references\"])):\n",
    "\n",
    "            output_df.at[index, \"HIT_id\"] = row[\"_id\"]\n",
    "            output_df.at[index, \"batch_id\"] = row[\"batch_id\"]\n",
    "            output_df.at[index, \"taskSet_id\"] = row[\"taskSet_id\"]\n",
    "            output_df.at[index, \"worker_id\"] = row[\"worker_id\"]\n",
    "\n",
    "            output_df.at[index, \"claim_id\"] = row[\"references\"][j][\"claim_db_id\"]\n",
    "            output_df.at[index, \"claim\"] = row[\"references\"][j][\"claim\"]\n",
    "            output_df.at[index, \"table\"] = row[\"references\"][j][\"table\"]\n",
    "\n",
    "            output_df.at[index, \"adjusted_claim\"] = row[\"outputs\"][j][\"adjusted_claim\"]\n",
    "            output_df.at[index, \"label\"] = row[\"outputs\"][j][\"label\"]\n",
    "            output_df.at[index, \"events\"] = row[\"events\"][j]\n",
    "            \n",
    "            index += 1  \n",
    "\n",
    "    print(len(output_df))\"\"\" \n",
    "    "
   ]
  },
  {
   "cell_type": "code",
   "execution_count": 9,
   "metadata": {
    "scrolled": true
   },
   "outputs": [
    {
     "name": "stdout",
     "output_type": "stream",
     "text": [
      "55\n"
     ]
    }
   ],
   "source": [
    "stats_df = output_df[['chart_img', 'caption']].copy()\n",
    "print(len(set(stats_df[\"chart_img\"])))\n",
    "\n",
    "#urls = [entry[\"url\"] for entry in stats_df[\"caption\"]]\n",
    "#print(len(set(urls)))\n",
    "\n",
    "#html_table = [entry[\"html_table\"] for entry in stats_df[\"table\"]]\n",
    "#print(len(set(html_table)))\n"
   ]
  },
  {
   "cell_type": "code",
   "execution_count": null,
   "metadata": {},
   "outputs": [],
   "source": [
    "x = []\n",
    "\n",
    "for index, row in output_df.iterrows():\n",
    "    if row[\"label\"] not in [0,1,2,3,4,5]:\n",
    "        continue\n",
    "    elif row[\"chart_img\"].strip() not in x:\n",
    "        x.append(row[\"chart_img\"].strip())\n",
    "\n",
    "for _x in x:\n",
    "    print(f\"* {_x}\")\n",
    "    \n",
    "     #print()"
   ]
  },
  {
   "cell_type": "markdown",
   "metadata": {},
   "source": [
    "### Worker analysis"
   ]
  },
  {
   "cell_type": "code",
   "execution_count": 10,
   "metadata": {
    "scrolled": true
   },
   "outputs": [
    {
     "name": "stdout",
     "output_type": "stream",
     "text": [
      "33 unique workers worked on the 33 tasks.\n"
     ]
    },
    {
     "data": {
      "text/plain": [
       "[('A2IQW7R7L2RZAW', 5),\n",
       " ('AD0KOGRQZG4AL', 5),\n",
       " ('AR6H3B01WJ1FQ', 5),\n",
       " ('A24GX1OZE6AY04', 5),\n",
       " ('AQTZUGKIAUNTL', 5),\n",
       " ('A1RE0YJ6N7OYJ4', 5),\n",
       " ('A36QI9SVD3BD4L', 5),\n",
       " ('A3HFB277V5OXY0', 5),\n",
       " ('A2F1KMCT62PM6A', 5),\n",
       " ('A2WKKTBR5PQD1', 5),\n",
       " ('A2LI1OIR4BVJRW', 5),\n",
       " ('A1DUTNPYJK1TT6', 5),\n",
       " ('A2CIM32XEK7MW2', 5),\n",
       " ('AVIEE6LDH0BT5', 5),\n",
       " ('A20TFLJN76X5SX', 5),\n",
       " ('A1SUWQI66WRHIG', 5),\n",
       " ('A15O6E3T5S6IEK', 5),\n",
       " ('A142FFFX25RI2B', 5),\n",
       " ('A3914P24XPNPY3', 5),\n",
       " ('A3DW6KSQPG6GVQ', 5),\n",
       " ('A1F29I7H6MW972', 5),\n",
       " ('A2U53YHFUIT60P', 5),\n",
       " ('A30U8AEGO6OJWL', 5),\n",
       " ('A2P8V9PAWGNXVM', 5),\n",
       " ('A2HL825K192I9Y', 5),\n",
       " ('A2KLIBLDVDV144', 5),\n",
       " ('A2F4ZFG4BL4JPN', 5),\n",
       " ('A3HQAMMI4698RG', 5),\n",
       " ('A33PS4KEZFGSAU', 5),\n",
       " ('A2WQOPD3IYLITQ', 5),\n",
       " ('A2DJRPO4UAFUO8', 5),\n",
       " ('A1R5JNC2LO6X1S', 5),\n",
       " ('AZ6DQHW7AFKPP', 5)]"
      ]
     },
     "execution_count": 10,
     "metadata": {},
     "output_type": "execute_result"
    }
   ],
   "source": [
    "worker_list = output_df[\"worker_id\"]\n",
    "print(f\"{len(list(set(worker_list)))} unique workers worked on the {len(annotations_df)} tasks.\")\n",
    "\n",
    "Counter(worker_list).most_common()\n"
   ]
  },
  {
   "cell_type": "markdown",
   "metadata": {},
   "source": [
    "### Average annotation time"
   ]
  },
  {
   "cell_type": "code",
   "execution_count": 11,
   "metadata": {},
   "outputs": [],
   "source": [
    "def calc_annotation_time(events: list): \n",
    "    first_timestamp = parser.isoparse(events[1]['timestamp'])\n",
    "    last_timestamp = parser.isoparse(events[len(events)-1]['timestamp'])\n",
    "\n",
    "    duration = last_timestamp - first_timestamp\n",
    "    minutes = (duration.seconds//60)\n",
    "    \n",
    "    return duration.seconds, minutes\n",
    "    "
   ]
  },
  {
   "cell_type": "code",
   "execution_count": 12,
   "metadata": {},
   "outputs": [
    {
     "name": "stdout",
     "output_type": "stream",
     "text": [
      "               0\n",
      "count  33.000000\n",
      "mean    4.454545\n",
      "std     4.596812\n",
      "min     0.000000\n",
      "25%     1.000000\n",
      "50%     3.000000\n",
      "75%     6.000000\n",
      "max    19.000000\n"
     ]
    },
    {
     "data": {
      "image/png": "[encoded data removed]",
      "text/plain": [
       "<Figure size 1600x400 with 2 Axes>"
      ]
     },
     "metadata": {},
     "output_type": "display_data"
    }
   ],
   "source": [
    "duration_min = []\n",
    "duration_sec = []\n",
    "worker_list = []\n",
    "\n",
    "for index, row in annotations_df.iterrows(): \n",
    "    worker_id = row['worker_id']\n",
    "    if worker_id in worker_list:\n",
    "#         Uncomment rows below if we want to know time of non-first time workers\n",
    "        dur_sec, dur_min = calc_annotation_time(row[\"events\"])\n",
    "        duration_sec.append(dur_sec)\n",
    "        duration_min.append(dur_min)\n",
    "#         continue\n",
    "    else:\n",
    "        worker_list.append(worker_id)\n",
    "        dur_sec, dur_min = calc_annotation_time(row[\"events\"])\n",
    "        duration_sec.append(dur_sec)\n",
    "        duration_min.append(dur_min)\n",
    "        \n",
    "        \n",
    "# print boxplot of time duration for task \n",
    "\n",
    "fig, ax = plt.subplots(1,2, figsize=(16, 4))\n",
    "sns.boxplot(x=duration_min, ax = ax[0])\n",
    "sns.boxplot(x=duration_sec, ax = ax[1])\n",
    "\n",
    "ax[0].set_title('Time spent on one HIT (first time workers)')\n",
    "ax[1].set_title('Time spent on one HIT (first time workers)')\n",
    "ax[0].set(xlabel='time in minutes')\n",
    "ax[1].set(xlabel='time in seconds')\n",
    "\n",
    "\n",
    "print(pd.DataFrame(duration_min).describe())\n"
   ]
  },
  {
   "cell_type": "markdown",
   "metadata": {},
   "source": [
    "### Label distribution"
   ]
  },
  {
   "cell_type": "code",
   "execution_count": 13,
   "metadata": {},
   "outputs": [
    {
     "data": {
      "text/plain": [
       "165"
      ]
     },
     "execution_count": 13,
     "metadata": {},
     "output_type": "execute_result"
    }
   ],
   "source": [
    "len(output_df)"
   ]
  },
  {
   "cell_type": "code",
   "execution_count": 14,
   "metadata": {},
   "outputs": [
    {
     "data": {
      "image/png": "[encoded data removed]",
      "text/plain": [
       "<Figure size 640x480 with 1 Axes>"
      ]
     },
     "metadata": {},
     "output_type": "display_data"
    }
   ],
   "source": [
    "df = pd.DataFrame({'label': output_df[\"label\"]})\n",
    "ax = sns.barplot(x=df.label.value_counts().index, y=df.label.value_counts())\n",
    "\n",
    "s = 0\n",
    "for p in ax.patches:\n",
    "    s+= p.get_height()\n",
    "\n",
    "for p in ax.patches: \n",
    "    ax.text(p.get_x() + p.get_width()/2.,\n",
    "            p.get_height(),\n",
    "            '{}'.format(int(p.get_height())), \n",
    "            fontsize=12,\n",
    "            color='black',\n",
    "            ha='center',\n",
    "            va='bottom')\n",
    "\n",
    "ax.set_title('Distribution of labels')\n",
    "ax.set(xlabel='0 = Not_Eng | 1 = Not readable | 2 = Missing parts | 3 = color problem | 4 = others | 5 = Clear ', ylabel='annotations')\n",
    "# ax.set(xlabel='0 = supported | 1 = refuted ', ylabel='adjusted claims')\n",
    "\n",
    "plt.show()\n",
    "\n",
    "\n"
   ]
  },
  {
   "cell_type": "markdown",
   "metadata": {},
   "source": [
    "### [TABLE ANNOTATION TASK] Majority voting "
   ]
  },
  {
   "cell_type": "code",
   "execution_count": 15,
   "metadata": {},
   "outputs": [],
   "source": [
    "def majority(votes):\n",
    "    votes = [v for v in votes if v != -1]\n",
    "    if collections.Counter(votes).most_common(1)[0][1] == 1: \n",
    "        return -1\n",
    "    else:\n",
    "        return collections.Counter(votes).most_common(1)[0][0]\n"
   ]
  },
  {
   "cell_type": "code",
   "execution_count": 16,
   "metadata": {},
   "outputs": [
    {
     "data": {
      "text/html": [
       "<div>\n",
       "<style scoped>\n",
       "    .dataframe tbody tr th:only-of-type {\n",
       "        vertical-align: middle;\n",
       "    }\n",
       "\n",
       "    .dataframe tbody tr th {\n",
       "        vertical-align: top;\n",
       "    }\n",
       "\n",
       "    .dataframe thead th {\n",
       "        text-align: right;\n",
       "    }\n",
       "</style>\n",
       "<table border=\"1\" class=\"dataframe\">\n",
       "  <thead>\n",
       "    <tr style=\"text-align: right;\">\n",
       "      <th></th>\n",
       "      <th>HIT_id</th>\n",
       "      <th>chart_id</th>\n",
       "      <th>chart_img</th>\n",
       "      <th>label</th>\n",
       "      <th>header</th>\n",
       "    </tr>\n",
       "  </thead>\n",
       "  <tbody>\n",
       "    <tr>\n",
       "      <th>0</th>\n",
       "      <td>324N5FAHT49WO1B18H22C4FFQCSKV4</td>\n",
       "      <td>6390685299c9ed38aa870bcf</td>\n",
       "      <td>https://chartfc.s3.amazonaws.com/Production_Qu...</td>\n",
       "      <td>[0]</td>\n",
       "      <td>[-1]</td>\n",
       "    </tr>\n",
       "    <tr>\n",
       "      <th>1</th>\n",
       "      <td>324N5FAHT49WO1B18H22C4FFQCSKV4</td>\n",
       "      <td>6390685299c9ed38aa870a1f</td>\n",
       "      <td>https://chartfc.s3.amazonaws.com/Declineeffect...</td>\n",
       "      <td>[1]</td>\n",
       "      <td>[-1]</td>\n",
       "    </tr>\n",
       "    <tr>\n",
       "      <th>2</th>\n",
       "      <td>324N5FAHT49WO1B18H22C4FFQCSKV4</td>\n",
       "      <td>6390685299c9ed38aa870b6f</td>\n",
       "      <td>https://chartfc.s3.amazonaws.com/Pagerank_grap...</td>\n",
       "      <td>[3]</td>\n",
       "      <td>[-1]</td>\n",
       "    </tr>\n",
       "    <tr>\n",
       "      <th>3</th>\n",
       "      <td>324N5FAHT49WO1B18H22C4FFQCSKV4</td>\n",
       "      <td>6390685299c9ed38aa870bd4</td>\n",
       "      <td>https://chartfc.s3.amazonaws.com/Production_Qu...</td>\n",
       "      <td>[1]</td>\n",
       "      <td>[-1]</td>\n",
       "    </tr>\n",
       "    <tr>\n",
       "      <th>4</th>\n",
       "      <td>324N5FAHT49WO1B18H22C4FFQCSKV4</td>\n",
       "      <td>6390685299c9ed38aa870a23</td>\n",
       "      <td>https://chartfc.s3.amazonaws.com/Democratic_pr...</td>\n",
       "      <td>[4]</td>\n",
       "      <td>[-1]</td>\n",
       "    </tr>\n",
       "  </tbody>\n",
       "</table>\n",
       "</div>"
      ],
      "text/plain": [
       "                           HIT_id                  chart_id  \\\n",
       "0  324N5FAHT49WO1B18H22C4FFQCSKV4  6390685299c9ed38aa870bcf   \n",
       "1  324N5FAHT49WO1B18H22C4FFQCSKV4  6390685299c9ed38aa870a1f   \n",
       "2  324N5FAHT49WO1B18H22C4FFQCSKV4  6390685299c9ed38aa870b6f   \n",
       "3  324N5FAHT49WO1B18H22C4FFQCSKV4  6390685299c9ed38aa870bd4   \n",
       "4  324N5FAHT49WO1B18H22C4FFQCSKV4  6390685299c9ed38aa870a23   \n",
       "\n",
       "                                           chart_img label header  \n",
       "0  https://chartfc.s3.amazonaws.com/Production_Qu...   [0]   [-1]  \n",
       "1  https://chartfc.s3.amazonaws.com/Declineeffect...   [1]   [-1]  \n",
       "2  https://chartfc.s3.amazonaws.com/Pagerank_grap...   [3]   [-1]  \n",
       "3  https://chartfc.s3.amazonaws.com/Production_Qu...   [1]   [-1]  \n",
       "4  https://chartfc.s3.amazonaws.com/Democratic_pr...   [4]   [-1]  "
      ]
     },
     "execution_count": 16,
     "metadata": {},
     "output_type": "execute_result"
    }
   ],
   "source": [
    "pre_label_df = output_df[['HIT_id', 'chart_id','chart_img','label','header']].copy()\n",
    "pre_label_df['label'] = pre_label_df['label'].apply(lambda x : [x])\n",
    "pre_label_df['header'] = pre_label_df['header'].apply(lambda x : [x] if x==-1 else x)\n",
    "pre_label_df.head()\n"
   ]
  },
  {
   "cell_type": "code",
   "execution_count": 18,
   "metadata": {},
   "outputs": [
    {
     "data": {
      "text/html": [
       "<div>\n",
       "<style scoped>\n",
       "    .dataframe tbody tr th:only-of-type {\n",
       "        vertical-align: middle;\n",
       "    }\n",
       "\n",
       "    .dataframe tbody tr th {\n",
       "        vertical-align: top;\n",
       "    }\n",
       "\n",
       "    .dataframe thead th {\n",
       "        text-align: right;\n",
       "    }\n",
       "</style>\n",
       "<table border=\"1\" class=\"dataframe\">\n",
       "  <thead>\n",
       "    <tr style=\"text-align: right;\">\n",
       "      <th></th>\n",
       "      <th></th>\n",
       "      <th>label</th>\n",
       "    </tr>\n",
       "    <tr>\n",
       "      <th>chart_id</th>\n",
       "      <th>HIT_id</th>\n",
       "      <th></th>\n",
       "    </tr>\n",
       "  </thead>\n",
       "  <tbody>\n",
       "    <tr>\n",
       "      <th>6390685299c9ed38aa870999</th>\n",
       "      <th>3MA5N0ATUJ993QB6YR7YY6YTXL1KWL</th>\n",
       "      <td>[5, 5, 5]</td>\n",
       "    </tr>\n",
       "    <tr>\n",
       "      <th>6390685299c9ed38aa8709be</th>\n",
       "      <th>3SSN80MU9JMOSQGW8W3K0PC06N7KXE</th>\n",
       "      <td>[5, 2, 5]</td>\n",
       "    </tr>\n",
       "    <tr>\n",
       "      <th>6390685299c9ed38aa8709dd</th>\n",
       "      <th>3SNR5F7RA9ROGVZRDOSGZKCGYD7IES</th>\n",
       "      <td>[3, 3, 5]</td>\n",
       "    </tr>\n",
       "    <tr>\n",
       "      <th>6390685299c9ed38aa870a0c</th>\n",
       "      <th>3MA5N0ATUJ993QB6YR7YY6YTXL1KWL</th>\n",
       "      <td>[2, 5, 3]</td>\n",
       "    </tr>\n",
       "    <tr>\n",
       "      <th>6390685299c9ed38aa870a1f</th>\n",
       "      <th>324N5FAHT49WO1B18H22C4FFQCSKV4</th>\n",
       "      <td>[1, 1, 2]</td>\n",
       "    </tr>\n",
       "  </tbody>\n",
       "</table>\n",
       "</div>"
      ],
      "text/plain": [
       "                                                             label\n",
       "chart_id                 HIT_id                                   \n",
       "6390685299c9ed38aa870999 3MA5N0ATUJ993QB6YR7YY6YTXL1KWL  [5, 5, 5]\n",
       "6390685299c9ed38aa8709be 3SSN80MU9JMOSQGW8W3K0PC06N7KXE  [5, 2, 5]\n",
       "6390685299c9ed38aa8709dd 3SNR5F7RA9ROGVZRDOSGZKCGYD7IES  [3, 3, 5]\n",
       "6390685299c9ed38aa870a0c 3MA5N0ATUJ993QB6YR7YY6YTXL1KWL  [2, 5, 3]\n",
       "6390685299c9ed38aa870a1f 324N5FAHT49WO1B18H22C4FFQCSKV4  [1, 1, 2]"
      ]
     },
     "execution_count": 18,
     "metadata": {},
     "output_type": "execute_result"
    }
   ],
   "source": [
    "label_df = pre_label_df.groupby(['chart_id', 'HIT_id']).agg({'label': \"sum\"}) \n",
    "# for checking the quality of work run below to look at chart images\n",
    "#label_df = pre_label_df.groupby(['chart_img', 'HIT_id']).agg({'label': \"sum\"}) \n",
    "label_df.head()\n"
   ]
  },
  {
   "cell_type": "code",
   "execution_count": null,
   "metadata": {},
   "outputs": [],
   "source": [
    "temp=label_df['chart_img']\n",
    "temp"
   ]
  },
  {
   "cell_type": "code",
   "execution_count": 19,
   "metadata": {
    "scrolled": true
   },
   "outputs": [
    {
     "name": "stdout",
     "output_type": "stream",
     "text": [
      "Length before filtering for charts with three assignments: 55\n",
      "55\n"
     ]
    },
    {
     "data": {
      "text/html": [
       "<div>\n",
       "<style scoped>\n",
       "    .dataframe tbody tr th:only-of-type {\n",
       "        vertical-align: middle;\n",
       "    }\n",
       "\n",
       "    .dataframe tbody tr th {\n",
       "        vertical-align: top;\n",
       "    }\n",
       "\n",
       "    .dataframe thead th {\n",
       "        text-align: right;\n",
       "    }\n",
       "</style>\n",
       "<table border=\"1\" class=\"dataframe\">\n",
       "  <thead>\n",
       "    <tr style=\"text-align: right;\">\n",
       "      <th></th>\n",
       "      <th>level_0</th>\n",
       "      <th>level_1</th>\n",
       "      <th>label</th>\n",
       "      <th>majority</th>\n",
       "    </tr>\n",
       "  </thead>\n",
       "  <tbody>\n",
       "    <tr>\n",
       "      <th>0</th>\n",
       "      <td>6390685299c9ed38aa870999</td>\n",
       "      <td>3MA5N0ATUJ993QB6YR7YY6YTXL1KWL</td>\n",
       "      <td>[5, 5, 5]</td>\n",
       "      <td>5</td>\n",
       "    </tr>\n",
       "    <tr>\n",
       "      <th>1</th>\n",
       "      <td>6390685299c9ed38aa8709be</td>\n",
       "      <td>3SSN80MU9JMOSQGW8W3K0PC06N7KXE</td>\n",
       "      <td>[5, 2, 5]</td>\n",
       "      <td>5</td>\n",
       "    </tr>\n",
       "    <tr>\n",
       "      <th>2</th>\n",
       "      <td>6390685299c9ed38aa8709dd</td>\n",
       "      <td>3SNR5F7RA9ROGVZRDOSGZKCGYD7IES</td>\n",
       "      <td>[3, 3, 5]</td>\n",
       "      <td>3</td>\n",
       "    </tr>\n",
       "    <tr>\n",
       "      <th>3</th>\n",
       "      <td>6390685299c9ed38aa870a0c</td>\n",
       "      <td>3MA5N0ATUJ993QB6YR7YY6YTXL1KWL</td>\n",
       "      <td>[2, 5, 3]</td>\n",
       "      <td>-1</td>\n",
       "    </tr>\n",
       "    <tr>\n",
       "      <th>4</th>\n",
       "      <td>6390685299c9ed38aa870a1f</td>\n",
       "      <td>324N5FAHT49WO1B18H22C4FFQCSKV4</td>\n",
       "      <td>[1, 1, 2]</td>\n",
       "      <td>1</td>\n",
       "    </tr>\n",
       "    <tr>\n",
       "      <th>5</th>\n",
       "      <td>6390685299c9ed38aa870a23</td>\n",
       "      <td>324N5FAHT49WO1B18H22C4FFQCSKV4</td>\n",
       "      <td>[4, 4, 5]</td>\n",
       "      <td>4</td>\n",
       "    </tr>\n",
       "    <tr>\n",
       "      <th>6</th>\n",
       "      <td>6390685299c9ed38aa870a73</td>\n",
       "      <td>3MA5N0ATUJ993QB6YR7YY6YTXL1KWL</td>\n",
       "      <td>[5, 5, 2]</td>\n",
       "      <td>5</td>\n",
       "    </tr>\n",
       "    <tr>\n",
       "      <th>7</th>\n",
       "      <td>6390685299c9ed38aa870a7b</td>\n",
       "      <td>3MQY1YVHTAIMY795EU5YBWZE6KXB2A</td>\n",
       "      <td>[2, 4, 4]</td>\n",
       "      <td>4</td>\n",
       "    </tr>\n",
       "    <tr>\n",
       "      <th>8</th>\n",
       "      <td>6390685299c9ed38aa870a7e</td>\n",
       "      <td>3Z3R5YC0QAL6VNFY2BBQV9ZPLV2FTO</td>\n",
       "      <td>[5, 2, 2]</td>\n",
       "      <td>2</td>\n",
       "    </tr>\n",
       "    <tr>\n",
       "      <th>9</th>\n",
       "      <td>6390685299c9ed38aa870aef</td>\n",
       "      <td>3SNR5F7RA9ROGVZRDOSGZKCGYD7IES</td>\n",
       "      <td>[5, 5, 5]</td>\n",
       "      <td>5</td>\n",
       "    </tr>\n",
       "  </tbody>\n",
       "</table>\n",
       "</div>"
      ],
      "text/plain": [
       "                    level_0                         level_1      label  \\\n",
       "0  6390685299c9ed38aa870999  3MA5N0ATUJ993QB6YR7YY6YTXL1KWL  [5, 5, 5]   \n",
       "1  6390685299c9ed38aa8709be  3SSN80MU9JMOSQGW8W3K0PC06N7KXE  [5, 2, 5]   \n",
       "2  6390685299c9ed38aa8709dd  3SNR5F7RA9ROGVZRDOSGZKCGYD7IES  [3, 3, 5]   \n",
       "3  6390685299c9ed38aa870a0c  3MA5N0ATUJ993QB6YR7YY6YTXL1KWL  [2, 5, 3]   \n",
       "4  6390685299c9ed38aa870a1f  324N5FAHT49WO1B18H22C4FFQCSKV4  [1, 1, 2]   \n",
       "5  6390685299c9ed38aa870a23  324N5FAHT49WO1B18H22C4FFQCSKV4  [4, 4, 5]   \n",
       "6  6390685299c9ed38aa870a73  3MA5N0ATUJ993QB6YR7YY6YTXL1KWL  [5, 5, 2]   \n",
       "7  6390685299c9ed38aa870a7b  3MQY1YVHTAIMY795EU5YBWZE6KXB2A  [2, 4, 4]   \n",
       "8  6390685299c9ed38aa870a7e  3Z3R5YC0QAL6VNFY2BBQV9ZPLV2FTO  [5, 2, 2]   \n",
       "9  6390685299c9ed38aa870aef  3SNR5F7RA9ROGVZRDOSGZKCGYD7IES  [5, 5, 5]   \n",
       "\n",
       "   majority  \n",
       "0         5  \n",
       "1         5  \n",
       "2         3  \n",
       "3        -1  \n",
       "4         1  \n",
       "5         4  \n",
       "6         5  \n",
       "7         4  \n",
       "8         2  \n",
       "9         5  "
      ]
     },
     "execution_count": 19,
     "metadata": {},
     "output_type": "execute_result"
    }
   ],
   "source": [
    "# label_df = pre_label_df.groupby(['claim_id', 'HIT_id']).agg('sum') \n",
    "# label_df = pre_label_df.groupby(['majority']).agg('sum')\n",
    "\n",
    "label_df = label_df.dropna()\n",
    "\n",
    "print(f\"Length before filtering for charts with three assignments: {len(label_df)}\")\n",
    "label_df = pd.DataFrame([row for index, row in label_df.iterrows() if len(row[\"label\"])==3])\n",
    "label_df['majority'] = label_df['label'].apply(majority)\n",
    "\n",
    "label_df = label_df.reset_index()\n",
    "print(len(label_df))\n",
    "label_df.head(10)\n"
   ]
  },
  {
   "cell_type": "code",
   "execution_count": 20,
   "metadata": {},
   "outputs": [
    {
     "data": {
      "image/png": "[encoded data removed]",
      "text/plain": [
       "<Figure size 640x480 with 1 Axes>"
      ]
     },
     "metadata": {},
     "output_type": "display_data"
    }
   ],
   "source": [
    "df = pd.DataFrame({'label': label_df[\"majority\"]})\n",
    "ax = sns.barplot(x=df.label.value_counts().index, y=df.label.value_counts())\n",
    "\n",
    "s = 0\n",
    "for p in ax.patches:\n",
    "    s+= p.get_height()\n",
    "\n",
    "for p in ax.patches: \n",
    "    ax.text(p.get_x() + p.get_width()/2.,\n",
    "            p.get_height(),\n",
    "            '{}'.format(int(p.get_height())), \n",
    "            fontsize=12,\n",
    "            color='black',\n",
    "            ha='center',\n",
    "            va='bottom')\n",
    "\n",
    "ax.set_title('Distribution of labels after majority voting')\n",
    "ax.set(xlabel='0 = Not_Eng | 1 = Not readable | 2 = Missing parts | 3 = color problem | 4 = others | 5 = Clear ', ylabel='chart labels')\n",
    "plt.show()\n"
   ]
  },
  {
   "cell_type": "code",
   "execution_count": null,
   "metadata": {},
   "outputs": [],
   "source": [
    "label_df.head()"
   ]
  },
  {
   "cell_type": "markdown",
   "metadata": {},
   "source": [
    "### Update majority voting label in final_dataset in DB (=> needed for claim generation)"
   ]
  },
  {
   "cell_type": "code",
   "execution_count": null,
   "metadata": {},
   "outputs": [],
   "source": [
    "final_ds_col = db.final_dataset\n",
    "\n",
    "cursor =  final_ds_col.find({})\n",
    "df = pd.DataFrame(list(cursor)) \n",
    "print(f\"Length of test set: {len(df)}\")\n",
    "df.head(3)\n"
   ]
  },
  {
   "cell_type": "code",
   "execution_count": null,
   "metadata": {},
   "outputs": [],
   "source": [
    "# how many (claim, relevant_table) pairs we have in final_ds\n",
    "\n",
    "temp = [len(x) for x in df[\"table_relevant\"] if x and type(x) == list]\n",
    "sum(temp) # total\n"
   ]
  },
  {
   "cell_type": "code",
   "execution_count": null,
   "metadata": {},
   "outputs": [],
   "source": [
    "# Extract from output_df all entries with majority voting \"2\" (=\"relevant\")\n",
    "\n",
    "x = []\n",
    "for claim_id, hit_id in list(label_df[label_df[\"majority\"]==2][\"index\"]):\n",
    "    x.append(output_df[(output_df[\"chart_id\"]==claim_id) & (output_df[\"HIT_id\"]==hit_id)].iloc[0,:])\n",
    "\n",
    "output_df_majority = pd.DataFrame(x)\n",
    "print(len(output_df_majority))\n",
    "output_df_majority.head(1)\n"
   ]
  },
  {
   "cell_type": "code",
   "execution_count": null,
   "metadata": {},
   "outputs": [],
   "source": [
    "# update final_dataset collection in MongoDB \n",
    "# Add tables to column \"table_relevant\" in final_dataset\n",
    "\n",
    "counter = 0\n",
    "for index, row in df.iterrows(): # iterate over final_dataset\n",
    "    _id = str(row[\"_id\"])\n",
    "    \n",
    "    for i, r in output_df_majority.iterrows(): # iterate over claims with relevant tables (accord. to majority voting)\n",
    "        annotated_table = r[\"table\"]\n",
    "        change = 0\n",
    "        \n",
    "        if _id != r[\"claim_id\"]:\n",
    "            continue \n",
    "            \n",
    "        temp_list = row[\"table_relevant\"] if type(row[\"table_relevant\"]) == list else []\n",
    "        relevant_tables = []\n",
    "        for relevant_t in temp_list:\n",
    "            if \"_id\" in relevant_t:\n",
    "                relevant_t[\"id\"] = relevant_t[\"_id\"]\n",
    "                del relevant_t[\"_id\"]\n",
    "                \n",
    "            relevant_tables.append(relevant_t)\n",
    "        \n",
    "        if \"id\" in annotated_table: \n",
    "            if annotated_table[\"id\"] not in [t[\"id\"] for t in relevant_tables]:\n",
    "                relevant_tables.append(annotated_table)\n",
    "                change = 1\n",
    "                \n",
    "        elif \"_id\" in annotated_table: \n",
    "            if annotated_table[\"_id\"] not in [t[\"id\"] for t in relevant_tables]:\n",
    "                annotated_table[\"id\"] = annotated_table[\"_id\"].copy()\n",
    "                del annotated_table[\"_id\"]\n",
    "                relevant_tables.append(annotated_table)\n",
    "                change = 1\n",
    "\n",
    "        else: # find matching _id for annotated_table first\n",
    "            for table in row[\"tables\"]: \n",
    "\n",
    "                if table[\"rows_list\"] == annotated_table[\"rows_list\"]:\n",
    "                    not_added_before = False\n",
    "                    for tab in relevant_tables:\n",
    "                        if annotated_table[\"rows_list\"] == tab[\"rows_list\"]: \n",
    "                            not_added_before = True\n",
    "\n",
    "                    if not_added_before:\n",
    "                        annotated_table[\"id\"] = table[\"id\"]\n",
    "                        relevant_tables.append(annotated_table)\n",
    "                        change = 1\n",
    "\n",
    "        if change:\n",
    "            counter += 1\n",
    "            final_ds_col.update_one({'_id': row[\"_id\"]},\n",
    "                                    {'$set': {'table_relevant': relevant_tables}})\n",
    "\n",
    "counter\n",
    "        "
   ]
  },
  {
   "cell_type": "markdown",
   "metadata": {},
   "source": [
    "### Update majority voting in claim_generation dataset (=> after adjusted claim annotation)"
   ]
  },
  {
   "cell_type": "code",
   "execution_count": null,
   "metadata": {},
   "outputs": [],
   "source": [
    "claim_col = db.claim_generation\n",
    "cursor =  claim_col.find({})\n",
    "df = pd.DataFrame(list(cursor)) \n",
    "print(f\"Length of data set: {len(df)}\")\n",
    "df.head(3)\n"
   ]
  },
  {
   "cell_type": "code",
   "execution_count": null,
   "metadata": {},
   "outputs": [],
   "source": [
    "df['_id_str'] = df['_id'].astype('str')\n",
    "no_entries = []\n",
    "\n",
    "for index, row in label_df.iterrows(): \n",
    "    _id = row[\"index\"][0]\n",
    "    row_id = df.loc[df['_id_str'] == _id][\"_id\"]\n",
    "    \n",
    "    if len(row_id.values) == 0:\n",
    "        no_entries.append(row[\"index\"])\n",
    "        continue\n",
    "    \n",
    "#         Uncomment to update claim_generation collection in MongoDB\n",
    "#     claim_col.update_one({'_id': row_id.values[0]}, \n",
    "#                          {\n",
    "#                              '$set': {'majority_label': str(row[\"majority\"]), \n",
    "#                                       'majority_header': row[\"header\"]}\n",
    "#                          })\n",
    "\n",
    "print(len(no_entries))\n"
   ]
  },
  {
   "cell_type": "code",
   "execution_count": null,
   "metadata": {},
   "outputs": [],
   "source": [
    "no_entries[0]"
   ]
  },
  {
   "cell_type": "code",
   "execution_count": null,
   "metadata": {},
   "outputs": [],
   "source": [
    "output_df.head(1)"
   ]
  },
  {
   "cell_type": "code",
   "execution_count": null,
   "metadata": {
    "scrolled": true
   },
   "outputs": [],
   "source": [
    "# todo enter for ids in \"no_entries\" list the corrsponding claim table pair to the collection \"claim_generation\" in MongoDB\n",
    "\n",
    "for claim_id, hit_id in no_entries: \n",
    "    row = output_df.loc[(output_df['claim_id'] == claim_id) && (output_df['HIT_id'] == hit_id)]\n",
    "    \n"
   ]
  },
  {
   "cell_type": "markdown",
   "metadata": {},
   "source": [
    "### Header rationales "
   ]
  },
  {
   "cell_type": "code",
   "execution_count": null,
   "metadata": {},
   "outputs": [],
   "source": [
    "\n",
    "label_list = [len(entry) for entry in output_df[\"header\"] if (entry!=-1 and entry!=[])]\n",
    "df = pd.DataFrame({'label': label_list})\n",
    "# sns.histplot(data=label_list)\n",
    "\n",
    "ax = sns.barplot(x=df.label.value_counts().index, y=df.label.value_counts())\n",
    "\n",
    "s = 0\n",
    "for p in ax.patches:\n",
    "    s+= p.get_height()\n",
    "\n",
    "for p in ax.patches: \n",
    "    ax.text(p.get_x() + p.get_width()/2.,\n",
    "            p.get_height(),\n",
    "            '{}'.format(int(p.get_height())), \n",
    "            fontsize=11,\n",
    "            color='black',\n",
    "            ha='center',\n",
    "            va='bottom')\n",
    "    \n",
    "ax.set_title('Number of column rationales selected')\n",
    "ax.set(ylabel='count')\n",
    "\n",
    "plt.show()\n"
   ]
  },
  {
   "cell_type": "code",
   "execution_count": null,
   "metadata": {},
   "outputs": [],
   "source": [
    "workers = []\n",
    "for index, row in annotations_df.iterrows():\n",
    "    for output in row[\"outputs\"]: \n",
    "        if output['label']==0:\n",
    "            workers.append(row[\"worker_id\"])\n",
    "            \n",
    "print(\"Workers + count of claims they selected header rationales for:\")\n",
    "Counter(workers).most_common()"
   ]
  },
  {
   "cell_type": "markdown",
   "metadata": {},
   "source": [
    "### [CLAIM GENERATION TASK] Adjusted Claims"
   ]
  },
  {
   "cell_type": "code",
   "execution_count": null,
   "metadata": {},
   "outputs": [],
   "source": [
    "add_adjusted_claims = True\n",
    "claim_generation_col = db.claim_generation\n",
    "counter = 0\n",
    "\n",
    "if add_adjusted_claims:\n",
    "    for index, row in output_df.iterrows(): \n",
    "        if list(claim_generation_col.find({'claim': row[\"adjusted_claim\"]})) == []:\n",
    "            counter += 1\n",
    "            claim_generation_col.insert_one({\"_id\": uuid.uuid4(), \n",
    "                                             \"claim\": row[\"adjusted_claim\"],\n",
    "                                             \"table\": row[\"table\"],\n",
    "                                             \"label\": row[\"label\"],\n",
    "                                             \"initial_claim_id\": row[\"claim_id\"],\n",
    "                                             \"initial_claim\": row[\"claim\"]})\n",
    "print(counter)\n"
   ]
  },
  {
   "cell_type": "markdown",
   "metadata": {},
   "source": [
    "### Feedback"
   ]
  },
  {
   "cell_type": "code",
   "execution_count": null,
   "metadata": {},
   "outputs": [],
   "source": [
    "[entry for entry in annotations_df[\"feedback\"] if entry!=None]"
   ]
  },
  {
   "cell_type": "markdown",
   "metadata": {},
   "source": [
    "### Some further analysis"
   ]
  },
  {
   "cell_type": "code",
   "execution_count": null,
   "metadata": {},
   "outputs": [],
   "source": [
    "# label_list = [str(entry[\"label\"]) for annotation in annotations_df[\"outputs\"] for entry in annotation]\n",
    "df = pd.DataFrame({'label': output_df[\"label\"]})\n"
   ]
  },
  {
   "cell_type": "code",
   "execution_count": null,
   "metadata": {},
   "outputs": [],
   "source": [
    "output_df"
   ]
  },
  {
   "cell_type": "code",
   "execution_count": null,
   "metadata": {},
   "outputs": [],
   "source": [
    "related_pairs = {}\n",
    "for index, row in output_df.iterrows():\n",
    "    if row[\"label\"] == 2: \n",
    "        related_pairs[row[\"claim\"]] = [row[\"worker_id\"]]\n",
    "\n",
    "len(related_pairs)\n"
   ]
  },
  {
   "cell_type": "code",
   "execution_count": null,
   "metadata": {},
   "outputs": [],
   "source": [
    "list(related_pairs.keys())"
   ]
  },
  {
   "cell_type": "code",
   "execution_count": null,
   "metadata": {},
   "outputs": [],
   "source": [
    "db_client.close()"
   ]
  },
  {
   "cell_type": "markdown",
   "metadata": {},
   "source": [
    "#### Add output_df_majority to final dataset to balance NEI class"
   ]
  },
  {
   "cell_type": "code",
   "execution_count": null,
   "metadata": {},
   "outputs": [],
   "source": [
    "import copy\n",
    "import jsonlines\n",
    "\n",
    "from sklearn.model_selection import train_test_split\n"
   ]
  },
  {
   "cell_type": "code",
   "execution_count": null,
   "metadata": {},
   "outputs": [],
   "source": [
    "output_df_majority.head(3)"
   ]
  },
  {
   "cell_type": "code",
   "execution_count": null,
   "metadata": {},
   "outputs": [],
   "source": [
    "# templates used for dataset creation\n",
    "\n",
    "entry_template = {\n",
    "    \"_id\": \"\", \n",
    "    \"claim\": \"\", \n",
    "    \"label\": \"\", \n",
    "    \"header_rationale\": \"\", \n",
    "    \"table\": \"\",\n",
    "    \"initial_claim\": \"\"\n",
    "}\n",
    "\n",
    "table_template = {\n",
    "    'website': \"\",\n",
    "    'website_title': \"\",\n",
    "    'caption': \"\",\n",
    "    'header_horizontal': \"\",\n",
    "    'header_vertical': \"\",\n",
    "    'rows': \"\",\n",
    "    'html_code': \"\"\n",
    "}\n"
   ]
  },
  {
   "cell_type": "code",
   "execution_count": null,
   "metadata": {},
   "outputs": [],
   "source": [
    "# Load dataset\n",
    "\n",
    "dataset = []\n",
    "with jsonlines.open('data/dataset.jsonl') as reader:\n",
    "    for line in reader: \n",
    "        dataset.append(line)\n",
    "\n",
    "len(dataset)"
   ]
  },
  {
   "cell_type": "code",
   "execution_count": null,
   "metadata": {},
   "outputs": [],
   "source": [
    "list_of_claims = list(pd.DataFrame(dataset)[\"claim\"])\n",
    "len(list_of_claims)"
   ]
  },
  {
   "cell_type": "code",
   "execution_count": null,
   "metadata": {},
   "outputs": [],
   "source": [
    "result_dict=[]\n",
    "\n",
    "#removing the duplicate entry\n",
    "for i in range(len(Langlist)): \n",
    "    if Langlist[i] not in Langlist[i + 1:]: \n",
    "        result_dict.append(Langlist[i]) \n"
   ]
  },
  {
   "cell_type": "code",
   "execution_count": null,
   "metadata": {},
   "outputs": [],
   "source": [
    "# create dataset using templates\n",
    "\n",
    "for index, row in output_df_majority.iterrows():\n",
    "    if row[\"claim\"] in list_of_claims: \n",
    "        continue\n",
    "    else: \n",
    "        list_of_claims.append(row[\"claim\"])\n",
    "    \n",
    "    table = copy.deepcopy(table_template)\n",
    "    table[\"website\"] = row[\"table\"][\"url\"]\n",
    "    table[\"website_title\"] = row[\"table\"][\"title\"]\n",
    "    table[\"caption\"] = row[\"table\"][\"caption\"]\n",
    "    table[\"header_horizontal\"] = row[\"table\"][\"header_horizontal\"]\n",
    "    table[\"header_vertical\"] = row[\"table\"][\"header_vertical\"]\n",
    "    table[\"rows\"] = row[\"table\"][\"rows_list\"]\n",
    "    table[\"html_code\"] = row[\"table\"][\"html_table\"]\n",
    "    \n",
    "    entry = copy.deepcopy(entry_template)\n",
    "    entry[\"table\"] = table\n",
    "    entry[\"_id\"] = str(row[\"claim_id\"])\n",
    "    entry[\"claim\"] = row[\"claim\"]\n",
    "    entry[\"label\"] = \"NOT ENOUGH INFO\"\n",
    "    entry[\"header_rationale\"] = row[\"header\"]\n",
    "    entry[\"initial_claim\"] = row[\"claim\"]\n",
    "    \n",
    "    dataset.append(entry)\n",
    "\n",
    "print(len(dataset))\n"
   ]
  },
  {
   "cell_type": "code",
   "execution_count": null,
   "metadata": {},
   "outputs": [],
   "source": [
    "trainset, testset = train_test_split(dataset.copy(), test_size=0.2)  \n",
    "testset, evalset = train_test_split(testset.copy(), test_size=0.5)  \n",
    "\n",
    "print(len(trainset))\n",
    "print(len(evalset))\n",
    "print(len(testset))\n"
   ]
  },
  {
   "cell_type": "code",
   "execution_count": null,
   "metadata": {},
   "outputs": [],
   "source": [
    "# Load data\n",
    "\n",
    "# save dataset in jsonl file \n",
    "\n",
    "# with jsonlines.open('data/dataset_balanced.jsonl', mode='w') as writer:\n",
    "#     writer.write_all(dataset)\n",
    "\n",
    "# with jsonlines.open('data/trainset.jsonl', mode='w') as writer:\n",
    "#     writer.write_all(trainset)\n",
    "\n",
    "# with jsonlines.open('data/evalset.jsonl', mode='w') as writer:\n",
    "#     writer.write_all(evalset)\n",
    "\n",
    "# with jsonlines.open('data/testset.jsonl', mode='w') as writer:\n",
    "#     writer.write_all(testset)\n"
   ]
  }
 ],
 "metadata": {
  "kernelspec": {
   "display_name": "chartfc",
   "language": "python",
   "name": "chartfc"
  },
  "language_info": {
   "codemirror_mode": {
    "name": "ipython",
    "version": 3
   },
   "file_extension": ".py",
   "mimetype": "text/x-python",
   "name": "python",
   "nbconvert_exporter": "python",
   "pygments_lexer": "ipython3",
   "version": "3.10.9"
  }
 },
 "nbformat": 4,
 "nbformat_minor": 4
}
